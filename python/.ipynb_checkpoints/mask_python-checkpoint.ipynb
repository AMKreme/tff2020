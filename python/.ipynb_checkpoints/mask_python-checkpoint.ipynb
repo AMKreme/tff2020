{
 "cells": [
  {
   "cell_type": "code",
   "execution_count": 46,
   "metadata": {},
   "outputs": [],
   "source": []
  },
  {
   "cell_type": "code",
   "execution_count": 50,
   "metadata": {},
   "outputs": [],
   "source": [
    "from pathlib import Path\n",
    "import os\n",
    "\n",
    "import numpy as np\n",
    "from matplotlib import pyplot as plt\n",
    "from scipy.ndimage import \\\n",
    "    binary_opening, binary_closing, generate_binary_structure\n",
    "\n",
    "from madarrays import Waveform\n",
    "from ltfatpy import plotdgtreal\n",
    "\n",
    "from scipy.io import savemat\n",
    "\n",
    "from tffpy.tf_tools import get_signal_params, get_dgt_params, GaborMultiplier\n",
    "from tffpy.utils import dgt, db, plot_spectrogram, plot_mask, get_data_path\n",
    "\n"
   ]
  },
  {
   "cell_type": "code",
   "execution_count": 54,
   "metadata": {},
   "outputs": [],
   "source": [
    "pathDir = 'results_mixtures'\n",
    "os.mkdir(pathDir)"
   ]
  },
  {
   "cell_type": "code",
   "execution_count": 56,
   "metadata": {},
   "outputs": [],
   "source": [
    "def get_dataset():\n",
    "    \"\"\"\n",
    "    Get dataset for isolated wideband and localized sources before mixing.\n",
    "\n",
    "    Returns\n",
    "    -------\n",
    "    dataset : dict\n",
    "        dataset['wideband'] (resp. dataset['localized']) is a dictionary\n",
    "        containing the :py:class:`~pathlib.Path` object for all the wideband\n",
    "        (resp. localized) sounds.\n",
    "    \"\"\"\n",
    "    dataset = dict()\n",
    "    dataset['wideband'] = {\n",
    "        x.stem: x\n",
    "        for x in (pathDir / 'wide_band_sources').glob('*.wav')\n",
    "    }\n",
    "    dataset['localized'] = {\n",
    "        x.stem: x\n",
    "        for x in (pathDir / 'localized_sources').glob('*.wav')\n",
    "    }\n",
    "    return dataset\n",
    "\n"
   ]
  },
  {
   "cell_type": "code",
   "execution_count": null,
   "metadata": {},
   "outputs": [],
   "source": []
  },
  {
   "cell_type": "code",
   "execution_count": 57,
   "metadata": {},
   "outputs": [],
   "source": [
    "def get_mix(loc_source, wideband_src, crop=None,\n",
    "            wb_to_loc_ratio_db=8, win_dur=256/ 8000, win_type='gauss',\n",
    "            hop_ratio=1/4, n_bins_ratio=4, n_iter_closing=3,\n",
    "            n_iter_opening=3, delta_mix_db=0, delta_loc_db=40,\n",
    "            closing_first=True, or_mask=True,\n",
    "            fig_dir=None, prefix=''):\n",
    "    \"\"\"\n",
    "    Build the mix two sounds and the related time-frequency boolean mask.\n",
    "\n",
    "    Parameters\n",
    "    ----------\n",
    "    loc_source : Path\n",
    "        Localized sound file.\n",
    "    wideband_src : Path\n",
    "        Wideband sound file.\n",
    "    crop : int or None\n",
    "        If not None, a cropped, centered portion of the sound will be\n",
    "        extracted with the specified length, in samples.\n",
    "    wb_to_loc_ratio_db : float\n",
    "        Wideband source to localized source energy ratio to be adjusted in\n",
    "        the mix.\n",
    "    win_dur : float\n",
    "        Window duration, in seconds.\n",
    "    win_type : str\n",
    "        Window name\n",
    "    hop_ratio : float\n",
    "        Ratio of the window length that will be set as hop size for the DGT.\n",
    "    n_bins_ratio : float\n",
    "        Factor that will be applied to the window length to compute the\n",
    "        number of bins in the DGT.\n",
    "    delta_mix_db : float\n",
    "        Coefficient energy ratio, in dB, between the wideband source and the\n",
    "        localized source in the mixture in order to select coefficients in\n",
    "        the mask.\n",
    "    delta_loc_db : float\n",
    "        Dynamic range, in dB, for the localized source in order to select\n",
    "        coefficients in the mask.\n",
    "    or_mask : bool\n",
    "        If True, the mask is build by taking the union of the two masks\n",
    "        obtained using thresholds `delta_mix_db` and `delta_loc_db`. If\n",
    "        False, the intersection is taken.\n",
    "    n_iter_closing : int\n",
    "        Number of successive morphological closings with radius 1 (a.k.a.\n",
    "        radius of one single closing)\n",
    "    n_iter_opening : int\n",
    "        Number of successive morphological openings with radius 1 (a.k.a.\n",
    "        radius of one single opening)\n",
    "    closing_first : bool\n",
    "        If True, morphological closings are applied first, followed by\n",
    "        openings. If False, the reverse way is used.\n",
    "    fig_dir : None or str or Path\n",
    "        If not None, folder where figures are stored. If None, figures are\n",
    "        not plotted.\n",
    "    prefix : str\n",
    "        If not None, this prefix is used when saving the figures.\n",
    "\n",
    "    Returns\n",
    "    -------\n",
    "    x_mix : Waveform\n",
    "        Mix signal (sum of outputs `x_loc` and `x_wb`)\n",
    "    dgt_params : dict\n",
    "        DGT parameters\n",
    "    signal_params : dict\n",
    "        Signal parameters\n",
    "    mask : nd-array\n",
    "        Time-frequency binary mask\n",
    "    x_loc : Waveform\n",
    "        Localized source signal\n",
    "    x_wb : Waveform\n",
    "        Wideband source signal\n",
    "    \"\"\"\n",
    "    dataset = get_dataset()\n",
    "\n",
    "    x_loc = Waveform.from_wavfile(dataset['localized'][loc_source])\n",
    "    x_wb = Waveform.from_wavfile(dataset['wideband'][wideband_src])\n",
    "    np.testing.assert_array_equal(x_loc.shape, x_wb.shape)\n",
    "    if crop is not None:\n",
    "        x_len = crop\n",
    "        i_start = (x_loc.shape[0] - x_len) // 2\n",
    "        x_loc = x_loc[i_start:i_start+x_len]\n",
    "        x_wb = x_wb[i_start:i_start+x_len]\n",
    "    signal_params = get_signal_params(sig_len=x_loc.shape[0], fs=x_loc.fs)\n",
    "\n",
    "    # Unit energy\n",
    "    x_loc /= np.linalg.norm(x_loc)\n",
    "    x_wb /= np.linalg.norm(x_wb)\n",
    "    gain_wb = 1 / (1 + 10 ** (-wb_to_loc_ratio_db / 20))\n",
    "    x_loc *= (1 - gain_wb)\n",
    "    x_wb *= gain_wb\n",
    "\n",
    "    # Build mix\n",
    "    x_mix = x_loc + x_wb\n",
    "\n",
    "    # Build dgt\n",
    "    fs = x_loc.fs\n",
    "    approx_win_len = int(2 ** np.round(np.log2(win_dur * fs)))\n",
    "    hop = int(approx_win_len * hop_ratio)\n",
    "    n_bins = int(approx_win_len * n_bins_ratio)\n",
    "    sig_len = x_loc.shape[0]\n",
    "    dgt_params = get_dgt_params(win_type=win_type,\n",
    "                                approx_win_len=approx_win_len,\n",
    "                                hop=hop, n_bins=n_bins, sig_len=sig_len)\n",
    "\n",
    "    tf_mat_loc_db = db(np.abs(dgt(x_loc, dgt_params=dgt_params)))\n",
    "    tf_mat_wb_db = db(np.abs(dgt(x_wb, dgt_params=dgt_params)))\n",
    "\n",
    "    # Build mask_raw\n",
    "    mask_mix = tf_mat_loc_db > tf_mat_wb_db + delta_mix_db\n",
    "    mask_loc = tf_mat_loc_db > tf_mat_loc_db.max() - delta_loc_db\n",
    "\n",
    "    if or_mask:\n",
    "        mask_raw = np.logical_or(mask_mix, mask_loc)\n",
    "    else:\n",
    "        mask_raw = np.logical_and(mask_mix, mask_loc)\n",
    "\n",
    "    struct = generate_binary_structure(2, 1)\n",
    "    if n_iter_closing > 0:\n",
    "        if closing_first:\n",
    "            mask = binary_opening(\n",
    "                binary_closing(input=mask_raw, structure=struct,\n",
    "                               iterations=n_iter_closing, border_value=1),\n",
    "                iterations=n_iter_opening, structure=struct, border_value=0)\n",
    "        else:\n",
    "            mask = binary_closing(\n",
    "                binary_opening(input=mask_raw,structure=struct,\n",
    "                               iterations=n_iter_opening, border_value=0),\n",
    "                iterations=n_iter_closing, structure=struct, border_value=1)\n",
    "    else:\n",
    "        mask = mask_raw\n",
    "\n",
    "\n",
    "    if fig_dir is not None:\n",
    "        fig_dir = Path(fig_dir)\n",
    "        fig_dir.mkdir(exist_ok=True, parents=True)\n",
    "        if len(prefix) > 0:\n",
    "            prefix = prefix + '_'\n",
    "\n",
    "        plt.figure()\n",
    "        plot_mask(mask=mask_mix, hop=dgt_params['hop'],\n",
    "                  n_bins=dgt_params['n_bins'], fs=signal_params['fs'])\n",
    "        plt.title('Mask Mix - Area: {} ({:.1%})'.format(mask_mix.sum(),\n",
    "                                                        np.average(mask_mix)))\n",
    "        plt.tight_layout()\n",
    "        plt.savefig(fig_dir / 'mask_mix.pdf')\n",
    "\n",
    "        plt.figure()\n",
    "        plot_mask(mask=mask_loc, hop=dgt_params['hop'],\n",
    "                  n_bins=dgt_params['n_bins'], fs=signal_params['fs'])\n",
    "        plt.title('Mask Loc - Area: {} ({:.1%})'.format(mask_loc.sum(),\n",
    "                                                        np.average(mask_loc)))\n",
    "        plt.tight_layout()\n",
    "        plt.savefig(fig_dir / 'mask_loc.pdf')\n",
    "\n",
    "        plt.figure()\n",
    "        plot_spectrogram(x=x_mix, dgt_params=dgt_params, fs=fs)\n",
    "        plt.title('Mix')\n",
    "        plt.tight_layout()\n",
    "        plt.savefig(fig_dir / 'mix_spectrogram.pdf')\n",
    "\n",
    "        plt.figure()\n",
    "        plot_mask(mask=mask_raw, hop=dgt_params['hop'],\n",
    "                  n_bins=dgt_params['n_bins'], fs=fs)\n",
    "        plt.title('Raw mask')\n",
    "        plt.tight_layout()\n",
    "        plt.savefig(fig_dir / 'raw_mask.pdf')\n",
    "\n",
    "        plt.figure()\n",
    "        plot_mask(mask=mask, hop=dgt_params['hop'],\n",
    "                  n_bins=dgt_params['n_bins'], fs=fs)\n",
    "        plt.tight_layout()\n",
    "        plt.title('Smoothed mask')\n",
    "        plt.savefig(fig_dir / 'smoothed_mask.pdf')\n",
    "\n",
    "        plt.figure()\n",
    "        plot_spectrogram(x=x_loc, dgt_params=dgt_params, fs=fs)\n",
    "        plt.title('Loc')\n",
    "        plt.tight_layout()\n",
    "        plt.savefig(fig_dir / 'loc_source.pdf')\n",
    "\n",
    "        plt.figure()\n",
    "        tf_mat = dgt(x_loc, dgt_params=dgt_params) * mask\n",
    "        plotdgtreal(coef=tf_mat, a=dgt_params['hop'], M=dgt_params['n_bins'],\n",
    "                    fs=fs, dynrange=100)\n",
    "        plt.title('Masked loc')\n",
    "        plt.tight_layout()\n",
    "        plt.savefig(fig_dir / 'masked_loc.pdf')\n",
    "\n",
    "        plt.figure()\n",
    "        gabmul = GaborMultiplier(mask=~mask,\n",
    "                                 dgt_params=dgt_params,\n",
    "                                 signal_params=signal_params)\n",
    "        x_est = gabmul @ x_wb\n",
    "        plot_spectrogram(x=x_est, dgt_params=dgt_params, fs=fs)\n",
    "        plt.title('Filtered wb')\n",
    "        plt.tight_layout()\n",
    "        plt.savefig(fig_dir / 'zerofill_spectrogram.pdf'.format(prefix))\n",
    "\n",
    "    return x_mix, dgt_params, signal_params, mask, x_loc, x_wb\n"
   ]
  },
  {
   "cell_type": "code",
   "execution_count": 29,
   "metadata": {},
   "outputs": [],
   "source": []
  },
  {
   "cell_type": "code",
   "execution_count": 30,
   "metadata": {},
   "outputs": [],
   "source": [
    "def db(x):\n",
    "    return 20 * np.log10(np.abs(x))"
   ]
  },
  {
   "cell_type": "code",
   "execution_count": 31,
   "metadata": {},
   "outputs": [],
   "source": [
    "def get_signal_params(sig_len, fs):\n",
    "\n",
    "    return dict(sig_len=sig_len, fs=fs)"
   ]
  },
  {
   "cell_type": "code",
   "execution_count": 32,
   "metadata": {},
   "outputs": [],
   "source": [
    "signal_params = get_signal_params(sig_len=x_loc.shape[0], fs=x_loc.fs)\n"
   ]
  },
  {
   "cell_type": "code",
   "execution_count": 33,
   "metadata": {},
   "outputs": [],
   "source": [
    "def dgt(sig, dgt_params):\n",
    "    \n",
    "    return dgtreal(f=sig, g=dgt_params['win'], a=dgt_params['hop'],\n",
    "                   M=dgt_params['n_bins'], L=sig.shape[0],\n",
    "                   pt=dgt_params['phase_conv'])[0]\n",
    "\n"
   ]
  },
  {
   "cell_type": "code",
   "execution_count": 34,
   "metadata": {},
   "outputs": [],
   "source": [
    "# Unit energy\n",
    "wb_to_loc_ratio_db = 8\n",
    "x_loc /= np.linalg.norm(x_loc)\n",
    "x_wb /= np.linalg.norm(x_wb)\n",
    "gain_wb = 1 / (1 + 10 ** (-wb_to_loc_ratio_db / 20))\n",
    "x_loc *= (1 - gain_wb)\n",
    "x_wb *= gain_wb\n"
   ]
  },
  {
   "cell_type": "code",
   "execution_count": 35,
   "metadata": {},
   "outputs": [],
   "source": [
    "# Build mix\n",
    "x_mix = x_loc + x_wb"
   ]
  },
  {
   "cell_type": "code",
   "execution_count": 36,
   "metadata": {},
   "outputs": [],
   "source": [
    "\n",
    "def get_dgt_params(win_type, approx_win_len, hop, n_bins,\n",
    "                   phase_conv='freqinv', sig_len=None):\n",
    "    \"\"\"\n",
    "    Build dictionary of DGT parameter\n",
    "\n",
    "    The output dictionary `dgt_params` is composed of:\n",
    "\n",
    "    * `dgt_params['win']`: the window array (nd-array)\n",
    "    * `dgt_params['hop']`: the hop size (int)\n",
    "    * `dgt_params['n_bins']`: the number of frequency bins (int)\n",
    "    * `dgt_params['input_win_len']`: the effective window length (input window\n",
    "      length rounded to the nearest power of two).\n",
    "    * `dgt_params['phase_conv']`: the phase convention `'freqinv'` or\n",
    "      `'timeinv'`, see `pt` argument in :py:func:`ltfatpy.gabor.dgtreal`\n",
    "\n",
    "    Parameters\n",
    "    ----------\n",
    "    win_type : str\n",
    "        Window name, e.g. 'hann', 'gauss' (see :py:func:`ltfatpy.arg_firwin`)\n",
    "    approx_win_len : int\n",
    "        Approximate window length\n",
    "    hop : int\n",
    "        Hop size\n",
    "    n_bins : int\n",
    "        Number of frequency bins\n",
    "    phase_conv : 'freqinv' or 'timeinv'\n",
    "        Phase convention\n",
    "    sig_len : int\n",
    "        Signal length\n",
    "\n",
    "    Returns\n",
    "    -------\n",
    "    dict\n",
    "        DGT parameters (see above)\n",
    "    \"\"\"\n",
    "    supported_wins = arg_firwin() | {'gauss'}\n",
    "    msg = '{} not supported, try {}'.format(win_type, supported_wins)\n",
    "    assert win_type in supported_wins, msg\n",
    "    msg = 'Signal length should be given if win_type is \"gauss\"'\n",
    "    assert win_type != 'gauss' or sig_len is not None, msg\n",
    "\n",
    "    input_win_len = int(2 ** np.round(np.log2(approx_win_len)))\n",
    "    if input_win_len != approx_win_len:\n",
    "        warnings.warn('Input window length {} has been changed to {}.'\n",
    "                      .format(approx_win_len, input_win_len))\n",
    "\n",
    "    if win_type == 'gauss':\n",
    "        tfr = float((np.pi * input_win_len ** 2) / (4 * sig_len * np.log(2)))\n",
    "        win, info = gabwin(g={'name': ('tight', 'gauss'), 'tfr': tfr},\n",
    "                           a=hop, M=n_bins, L=sig_len)\n",
    "    else:\n",
    "        win, info = gabwin(g={'name': ('tight', win_type), 'M': input_win_len},\n",
    "                           a=hop, M=n_bins, L=sig_len)\n",
    "    return dict(win=win, hop=hop, n_bins=n_bins, input_win_len=input_win_len,\n",
    "                phase_conv=phase_conv)\n"
   ]
  },
  {
   "cell_type": "code",
   "execution_count": 41,
   "metadata": {},
   "outputs": [],
   "source": [
    "# Build dgt\n",
    "fs = x_loc.fs\n",
    "win_dur = 256/8000\n",
    "hop_ratio=1/4\n",
    "n_bins_ratio=4\n",
    "approx_win_len = int(2 ** np.round(np.log2(win_dur * fs)))\n",
    "hop = int(approx_win_len * hop_ratio)\n",
    "n_bins = int(approx_win_len * n_bins_ratio)\n",
    "win_type='gauss'\n",
    "sig_len = x_loc.shape[0]\n",
    "dgt_params = get_dgt_params(win_type=win_type,\n",
    "                                approx_win_len=approx_win_len,\n",
    "                                hop=hop, n_bins=n_bins, sig_len=sig_len)\n",
    "\n",
    "tf_mat_loc_db = db(np.abs(dgt(x_loc, dgt_params=dgt_params)))\n",
    "tf_mat_wb_db = db(np.abs(dgt(x_wb, dgt_params=dgt_params)))\n"
   ]
  },
  {
   "cell_type": "code",
   "execution_count": 42,
   "metadata": {},
   "outputs": [],
   "source": [
    "# Build mask_raw\n",
    "delta_mix_db=0\n",
    "n_iter_closing=3\n",
    "delta_loc_db=40\n",
    "mask_mix = tf_mat_loc_db > tf_mat_wb_db + delta_mix_db\n",
    "mask_loc = tf_mat_loc_db > tf_mat_loc_db.max() - delta_loc_db\n",
    "#or_mask\n",
    "mask_raw = np.logical_or(mask_mix, mask_loc)\n",
    "closing_first=True\n",
    "n_iter_closing = 3 \n",
    "n_iter_opening=3\n",
    "struct = generate_binary_structure(2, 1)\n",
    "if n_iter_closing > 0:\n",
    "    if closing_first:\n",
    "        mask = binary_opening(\n",
    "        binary_closing(input=mask_raw, structure=struct,\n",
    "                               iterations=n_iter_closing, border_value=1),\n",
    "                iterations=n_iter_opening, structure=struct, border_value=0)\n",
    "    else:\n",
    "        mask = binary_closing(\n",
    "        binary_opening(input=mask_raw,structure=struct,\n",
    "                               iterations=n_iter_opening, border_value=0),\n",
    "                iterations=n_iter_closing, structure=struct, border_value=1)\n",
    "else:\n",
    "    mask = mask_raw"
   ]
  },
  {
   "cell_type": "code",
   "execution_count": 43,
   "metadata": {},
   "outputs": [],
   "source": [
    "from ltfatpy import plotdgtreal, dgtreal, idgtreal\n",
    "\n",
    "\n",
    "def plot_mask(mask, hop, n_bins, fs):\n",
    "    \"\"\"\n",
    "    Plot time-frequency mask\n",
    "\n",
    "    Parameters\n",
    "    ----------\n",
    "    mask : nd-array\n",
    "        Time-frequency mask\n",
    "    hop : int\n",
    "        Hop size\n",
    "    n_bins : int\n",
    "        Number of frequency bins\n",
    "    fs : int\n",
    "        Sampling frequency\n",
    "    \"\"\"\n",
    "    plotdgtreal(coef=mask.astype(float), a=hop, M=n_bins, fs=fs,\n",
    "                normalization='lin')\n"
   ]
  },
  {
   "cell_type": "code",
   "execution_count": 44,
   "metadata": {},
   "outputs": [
    {
     "data": {
      "text/plain": [
       "Text(0.5, 1.0, 'Smoothed mask')"
      ]
     },
     "execution_count": 44,
     "metadata": {},
     "output_type": "execute_result"
    },
    {
     "data": {
      "image/png": "[encoded data removed]",
      "text/plain": [
       "<Figure size 432x288 with 2 Axes>"
      ]
     },
     "metadata": {
      "needs_background": "light"
     },
     "output_type": "display_data"
    }
   ],
   "source": [
    "plt.figure()\n",
    "plot_mask(mask=mask, hop=dgt_params['hop'],\n",
    "                  n_bins=dgt_params['n_bins'], fs=fs)\n",
    "plt.tight_layout()\n",
    "plt.title('Smoothed mask')\n",
    "#plt.savefig(fig_dir / 'smoothed_mask.pdf')"
   ]
  },
  {
   "cell_type": "code",
   "execution_count": 23,
   "metadata": {},
   "outputs": [],
   "source": [
    "from scipy.io import savemat"
   ]
  },
  {
   "cell_type": "code",
   "execution_count": 75,
   "metadata": {},
   "outputs": [],
   "source": [
    "savemat(\"mask_python_gauss256.mat\", {'mask':mask})"
   ]
  },
  {
   "cell_type": "code",
   "execution_count": 76,
   "metadata": {},
   "outputs": [
    {
     "data": {
      "text/plain": [
       "array([[False, False, False, ..., False, False, False],\n",
       "       [False, False, False, ..., False, False, False],\n",
       "       [False, False, False, ..., False, False, False],\n",
       "       ...,\n",
       "       [False, False, False, ..., False, False, False],\n",
       "       [False, False, False, ..., False, False, False],\n",
       "       [False, False, False, ..., False, False, False]])"
      ]
     },
     "execution_count": 76,
     "metadata": {},
     "output_type": "execute_result"
    }
   ],
   "source": [
    "mask"
   ]
  },
  {
   "cell_type": "code",
   "execution_count": 85,
   "metadata": {},
   "outputs": [
    {
     "data": {
      "text/plain": [
       "Text(0.5, 1.0, 'Smoothed mask')"
      ]
     },
     "execution_count": 85,
     "metadata": {},
     "output_type": "execute_result"
    },
    {
     "data": {
      "image/png": "[encoded data removed]",
      "text/plain": [
       "<Figure size 432x288 with 2 Axes>"
      ]
     },
     "metadata": {
      "needs_background": "light"
     },
     "output_type": "display_data"
    }
   ],
   "source": [
    "#hann\n",
    "plt.figure()\n",
    "plot_mask(mask=mask, hop=dgt_params['hop'],\n",
    "                  n_bins=dgt_params['n_bins'], fs=fs)\n",
    "plt.tight_layout()\n",
    "plt.title('Smoothed mask')"
   ]
  },
  {
   "cell_type": "code",
   "execution_count": 86,
   "metadata": {},
   "outputs": [],
   "source": [
    "savemat(\"mask_python_hann512.mat\", {'mask':mask})"
   ]
  },
  {
   "cell_type": "code",
   "execution_count": null,
   "metadata": {},
   "outputs": [],
   "source": []
  }
 ],
 "metadata": {
  "kernelspec": {
   "display_name": "Python 3",
   "language": "python",
   "name": "python3"
  },
  "language_info": {
   "codemirror_mode": {
    "name": "ipython",
    "version": 3
   },
   "file_extension": ".py",
   "mimetype": "text/x-python",
   "name": "python",
   "nbconvert_exporter": "python",
   "pygments_lexer": "ipython3",
   "version": "3.8.3"
  }
 },
 "nbformat": 4,
 "nbformat_minor": 4
}
